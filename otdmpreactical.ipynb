{
  "nbformat": 4,
  "nbformat_minor": 0,
  "metadata": {
    "colab": {
      "provenance": [],
      "authorship_tag": "ABX9TyPI8ZR+b+6rbOmwVoWKpqDJ",
      "include_colab_link": true
    },
    "kernelspec": {
      "name": "python3",
      "display_name": "Python 3"
    },
    "language_info": {
      "name": "python"
    }
  },
  "cells": [
    {
      "cell_type": "markdown",
      "metadata": {
        "id": "view-in-github",
        "colab_type": "text"
      },
      "source": [
        "<a href=\"https://colab.research.google.com/github/mahigupta4002/aise-hi-/blob/main/otdmpreactical.ipynb\" target=\"_parent\"><img src=\"https://colab.research.google.com/assets/colab-badge.svg\" alt=\"Open In Colab\"/></a>"
      ]
    },
    {
      "cell_type": "markdown",
      "source": [
        "Write a Python program to find out when given an array of size N, the task is to\n",
        "partition the given array into two subsets such that the average of all the\n",
        "elements in both subsets is equal. If no such partition exists print -1. Otherwise,\n",
        "print the partitions. If multiple solutions exist, print the solution where the\n",
        "length of the first subset is minimum. If there is still a tie then print the\n",
        "partitions where the first subset is lexicographically smallest.\n"
      ],
      "metadata": {
        "id": "3tlqLuYXNYvj"
      }
    },
    {
      "cell_type": "code",
      "execution_count": 2,
      "metadata": {
        "colab": {
          "base_uri": "https://localhost:8080/"
        },
        "id": "uYsLYBB_NWWp",
        "outputId": "638c437c-20a9-4856-bf6a-f9e83f1fe5b9"
      },
      "outputs": [
        {
          "output_type": "stream",
          "name": "stdout",
          "text": [
            "-1\n"
          ]
        }
      ],
      "source": [
        "def find_equal_average_partition(arr):\n",
        "    total_sum = sum(arr)\n",
        "    n = len(arr)\n",
        "    prefix_sum = [0] * (n + 1)\n",
        "\n",
        "    for i in range(1, n + 1):\n",
        "        prefix_sum[i] = prefix_sum[i - 1] + arr[i - 1]\n",
        "\n",
        "    result = []\n",
        "\n",
        "    for i in range(1, n):\n",
        "        if (total_sum * i) % n == 0:\n",
        "            target_sum = (total_sum * i) // n\n",
        "            j = 1\n",
        "            while j <= n and prefix_sum[j] < target_sum:\n",
        "                j += 1\n",
        "\n",
        "            if j <= n and prefix_sum[j] == target_sum:\n",
        "                result.append(arr[:i])\n",
        "                result.append(arr[i:])\n",
        "                break\n",
        "\n",
        "    if not result:\n",
        "        print(-1)\n",
        "    else:\n",
        "        print(\"Partitions with equal average:\")\n",
        "        print(result[0])\n",
        "        print(result[1])\n",
        "\n",
        "# Example usage:\n",
        "arr = [1, 5, 87, 3, 8, 10, 6]\n",
        "find_equal_average_partition(arr)\n"
      ]
    }
  ]
}